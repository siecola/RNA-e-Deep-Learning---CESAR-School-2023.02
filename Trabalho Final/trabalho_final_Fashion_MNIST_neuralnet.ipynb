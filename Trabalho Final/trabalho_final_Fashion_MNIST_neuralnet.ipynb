{
  "cells": [
    {
      "cell_type": "markdown",
      "metadata": {
        "id": "sulShD5y4K7V"
      },
      "source": [
        "# Redes Neurais - Projeto Final da Disciplina\n",
        "\n",
        "## Equipe:\n",
        "- Isabel Francine Mendes - ifm2@cesar.school\n",
        "- Paulo César Siécola - pcs3@cesar.school"
      ]
    },
    {
      "cell_type": "markdown",
      "metadata": {
        "id": "mALEfpx54K7d"
      },
      "source": [
        "## Importação das bibliotecas"
      ]
    },
    {
      "cell_type": "code",
      "execution_count": 1,
      "metadata": {
        "id": "aOn4IXXnGRBg",
        "ExecuteTime": {
          "end_time": "2024-06-26T15:43:30.433523Z",
          "start_time": "2024-06-26T15:43:30.408653Z"
        }
      },
      "outputs": [],
      "source": [
        "# http://pytorch.org/\n",
        "from os.path import exists\n",
        "\n",
        "import torch"
      ]
    },
    {
      "cell_type": "code",
      "execution_count": 2,
      "metadata": {
        "id": "WN69WSbu4K7f",
        "ExecuteTime": {
          "end_time": "2024-06-26T15:43:30.442683Z",
          "start_time": "2024-06-26T15:43:30.436303Z"
        }
      },
      "outputs": [],
      "source": [
        "import argparse\n",
        "import torch\n",
        "import torch.nn as nn\n",
        "import torch.nn.functional as F\n",
        "import torch.optim as optim\n",
        "from torchvision import datasets, transforms\n",
        "from torch.optim.lr_scheduler import StepLR\n",
        "import copy\n",
        "import plotly.express as px"
      ]
    },
    {
      "cell_type": "markdown",
      "metadata": {
        "id": "4T8iS1Jc4K7q"
      },
      "source": [
        "## Criação da rede"
      ]
    },
    {
      "cell_type": "code",
      "execution_count": 3,
      "metadata": {
        "id": "RUi00oew4K7q",
        "ExecuteTime": {
          "end_time": "2024-06-26T15:43:30.453952Z",
          "start_time": "2024-06-26T15:43:30.446043Z"
        },
        "colab": {
          "base_uri": "https://localhost:8080/"
        },
        "outputId": "c95a3b5b-938e-4cb0-d8f4-ba24476130a8"
      },
      "outputs": [
        {
          "output_type": "execute_result",
          "data": {
            "text/plain": [
              "Net(\n",
              "  (fc1): Linear(in_features=784, out_features=256, bias=True)\n",
              "  (fc2): Linear(in_features=256, out_features=128, bias=True)\n",
              "  (fc3): Linear(in_features=128, out_features=10, bias=True)\n",
              ")"
            ]
          },
          "metadata": {},
          "execution_count": 3
        }
      ],
      "source": [
        "class Net(nn.Module):\n",
        "    def __init__(self):\n",
        "        super().__init__()\n",
        "        self.fc1 = nn.Linear(784, 256)\n",
        "        self.fc2 = nn.Linear(256, 128)\n",
        "        self.fc3 = nn.Linear(128, 10)\n",
        "\n",
        "    def forward(self, x):\n",
        "        x = x.view(x.shape[0], -1)\n",
        "        x = self.fc1(x)\n",
        "        x = F.relu(x)\n",
        "        x = self.fc2(x)\n",
        "        x = F.relu(x)\n",
        "        x = self.fc3(x)\n",
        "        output = F.log_softmax(x, dim=1)\n",
        "        return output\n",
        "\n",
        "modelFC = Net()\n",
        "modelFC"
      ]
    },
    {
      "cell_type": "markdown",
      "metadata": {
        "id": "400Lbat24K7v"
      },
      "source": [
        "## Treinamento"
      ]
    },
    {
      "cell_type": "markdown",
      "metadata": {
        "id": "2cqllMDO4K7y"
      },
      "source": [
        "### Criando o objeto de treinamento"
      ]
    },
    {
      "cell_type": "code",
      "execution_count": 4,
      "metadata": {
        "id": "OAEOQoZy4K72",
        "ExecuteTime": {
          "end_time": "2024-06-26T15:43:30.454720Z",
          "start_time": "2024-06-26T15:43:30.451923Z"
        }
      },
      "outputs": [],
      "source": [
        "def train(log_interval, dry_run, model, device, train_loader, optimizer, epoch):\n",
        "    model.train()\n",
        "    train_loss = 0\n",
        "    train_accuracy = 0\n",
        "\n",
        "    for batch_idx, (data, target) in enumerate(train_loader):\n",
        "        # data -> X  target -> Y (ou label). No nosso dataset, talvez isso tenha que ser feito de forma manual\n",
        "        data, target = data.to(device), target.to(device)\n",
        "        optimizer.zero_grad()\n",
        "        output = model(data)\n",
        "        loss = F.nll_loss(output, target)\n",
        "        loss.backward()\n",
        "        optimizer.step()\n",
        "\n",
        "        train_loss = loss.item()\n",
        "        train_accuracy = 100. * batch_idx / len(train_loader)\n",
        "        if batch_idx % log_interval == 0:\n",
        "            print('Train Epoch: {} [{}/{} ({:.0f}%)]\\tLoss: {:.6f}'.format(\n",
        "                epoch, batch_idx * len(data), len(train_loader.dataset),\n",
        "                100. * batch_idx / len(train_loader), loss.item()))\n",
        "            if dry_run:\n",
        "                break\n",
        "\n",
        "    return train_loss, train_accuracy"
      ]
    },
    {
      "cell_type": "code",
      "execution_count": 5,
      "metadata": {
        "id": "eE6DjiKK4K76",
        "ExecuteTime": {
          "end_time": "2024-06-26T15:43:30.482051Z",
          "start_time": "2024-06-26T15:43:30.456301Z"
        }
      },
      "outputs": [],
      "source": [
        "def test(model, device, test_loader):\n",
        "    model.eval()\n",
        "    test_loss = 0\n",
        "    correct = 0\n",
        "    predictions_list = []\n",
        "    labels_list = []\n",
        "\n",
        "    with torch.no_grad():\n",
        "        for data, target in test_loader:\n",
        "            data, target = data.to(device), target.to(device)\n",
        "            output = model(data)\n",
        "            test_loss += F.nll_loss(output, target, reduction='sum').item()  # sum up batch loss\n",
        "            pred = output.argmax(dim=1, keepdim=True)  # get the index of the max log-probability\n",
        "\n",
        "            labels_list.append(target)\n",
        "            predictions_list.append(pred)\n",
        "\n",
        "            correct += pred.eq(target.view_as(pred)).sum().item()\n",
        "\n",
        "    test_loss /= len(test_loader.dataset)\n",
        "    test_accuracy = 100. * correct / len(test_loader.dataset)\n",
        "\n",
        "    print('\\nTest set: Average loss: {:.4f}, Accuracy: {}/{} ({:.0f}%)\\n'.format(\n",
        "        test_loss, correct, len(test_loader.dataset),\n",
        "        test_accuracy))\n",
        "\n",
        "    return test_loss, test_accuracy, labels_list, predictions_list"
      ]
    },
    {
      "cell_type": "markdown",
      "metadata": {
        "id": "kxdm4FTK4K8E"
      },
      "source": [
        "## Avaliação"
      ]
    },
    {
      "cell_type": "code",
      "execution_count": 6,
      "metadata": {
        "colab": {
          "base_uri": "https://localhost:8080/"
        },
        "id": "kgH7e25qb_-K",
        "outputId": "11fd602f-68f9-48f8-a00f-8ccd9f0ccbc1",
        "ExecuteTime": {
          "end_time": "2024-06-26T15:45:07.102871Z",
          "start_time": "2024-06-26T15:43:30.463084Z"
        }
      },
      "outputs": [
        {
          "metadata": {
            "tags": null
          },
          "name": "stdout",
          "output_type": "stream",
          "text": [
            "Downloading http://fashion-mnist.s3-website.eu-central-1.amazonaws.com/train-images-idx3-ubyte.gz\n",
            "Downloading http://fashion-mnist.s3-website.eu-central-1.amazonaws.com/train-images-idx3-ubyte.gz to ../data/FashionMNIST/raw/train-images-idx3-ubyte.gz\n"
          ]
        },
        {
          "metadata": {
            "tags": null
          },
          "name": "stderr",
          "output_type": "stream",
          "text": [
            "100%|██████████| 26421880/26421880 [00:02<00:00, 11405371.34it/s]\n"
          ]
        },
        {
          "metadata": {
            "tags": null
          },
          "name": "stdout",
          "output_type": "stream",
          "text": [
            "Extracting ../data/FashionMNIST/raw/train-images-idx3-ubyte.gz to ../data/FashionMNIST/raw\n",
            "\n",
            "Downloading http://fashion-mnist.s3-website.eu-central-1.amazonaws.com/train-labels-idx1-ubyte.gz\n",
            "Downloading http://fashion-mnist.s3-website.eu-central-1.amazonaws.com/train-labels-idx1-ubyte.gz to ../data/FashionMNIST/raw/train-labels-idx1-ubyte.gz\n"
          ]
        },
        {
          "metadata": {
            "tags": null
          },
          "name": "stderr",
          "output_type": "stream",
          "text": [
            "100%|██████████| 29515/29515 [00:00<00:00, 208651.62it/s]\n"
          ]
        },
        {
          "metadata": {
            "tags": null
          },
          "name": "stdout",
          "output_type": "stream",
          "text": [
            "Extracting ../data/FashionMNIST/raw/train-labels-idx1-ubyte.gz to ../data/FashionMNIST/raw\n",
            "\n",
            "Downloading http://fashion-mnist.s3-website.eu-central-1.amazonaws.com/t10k-images-idx3-ubyte.gz\n",
            "Downloading http://fashion-mnist.s3-website.eu-central-1.amazonaws.com/t10k-images-idx3-ubyte.gz to ../data/FashionMNIST/raw/t10k-images-idx3-ubyte.gz\n"
          ]
        },
        {
          "metadata": {
            "tags": null
          },
          "name": "stderr",
          "output_type": "stream",
          "text": [
            "100%|██████████| 4422102/4422102 [00:06<00:00, 685314.63it/s] \n"
          ]
        },
        {
          "metadata": {
            "tags": null
          },
          "name": "stdout",
          "output_type": "stream",
          "text": [
            "Extracting ../data/FashionMNIST/raw/t10k-images-idx3-ubyte.gz to ../data/FashionMNIST/raw\n",
            "\n",
            "Downloading http://fashion-mnist.s3-website.eu-central-1.amazonaws.com/t10k-labels-idx1-ubyte.gz\n",
            "Downloading http://fashion-mnist.s3-website.eu-central-1.amazonaws.com/t10k-labels-idx1-ubyte.gz to ../data/FashionMNIST/raw/t10k-labels-idx1-ubyte.gz\n"
          ]
        },
        {
          "metadata": {
            "tags": null
          },
          "name": "stderr",
          "output_type": "stream",
          "text": [
            "100%|██████████| 5148/5148 [00:00<00:00, 4532383.92it/s]\n",
            "/usr/local/lib/python3.10/dist-packages/torch/utils/data/dataloader.py:558: UserWarning: This DataLoader will create 10 worker processes in total. Our suggested max number of worker in current system is 2, which is smaller than what this DataLoader is going to create. Please be aware that excessive worker creation might get DataLoader running slow or even freeze, lower the worker number to avoid potential slowness/freeze if necessary.\n",
            "  warnings.warn(_create_warning_msg(\n"
          ]
        },
        {
          "output_type": "stream",
          "name": "stdout",
          "text": [
            "Extracting ../data/FashionMNIST/raw/t10k-labels-idx1-ubyte.gz to ../data/FashionMNIST/raw\n",
            "\n",
            "Train Epoch: 1 [0/60000 (0%)]\tLoss: 2.307068\n",
            "Train Epoch: 1 [6400/60000 (11%)]\tLoss: 0.659634\n",
            "Train Epoch: 1 [12800/60000 (21%)]\tLoss: 0.649510\n",
            "Train Epoch: 1 [19200/60000 (32%)]\tLoss: 0.414038\n",
            "Train Epoch: 1 [25600/60000 (43%)]\tLoss: 0.400048\n",
            "Train Epoch: 1 [32000/60000 (53%)]\tLoss: 0.452325\n",
            "Train Epoch: 1 [38400/60000 (64%)]\tLoss: 0.401709\n",
            "Train Epoch: 1 [44800/60000 (75%)]\tLoss: 0.451586\n",
            "Train Epoch: 1 [51200/60000 (85%)]\tLoss: 0.211174\n",
            "Train Epoch: 1 [57600/60000 (96%)]\tLoss: 0.289517\n",
            "\n",
            "Test set: Average loss: 0.4109, Accuracy: 8466/10000 (85%)\n",
            "\n",
            "Train Epoch: 2 [0/60000 (0%)]\tLoss: 0.376400\n",
            "Train Epoch: 2 [6400/60000 (11%)]\tLoss: 0.425090\n",
            "Train Epoch: 2 [12800/60000 (21%)]\tLoss: 0.405182\n",
            "Train Epoch: 2 [19200/60000 (32%)]\tLoss: 0.370085\n",
            "Train Epoch: 2 [25600/60000 (43%)]\tLoss: 0.290501\n",
            "Train Epoch: 2 [32000/60000 (53%)]\tLoss: 0.320882\n",
            "Train Epoch: 2 [38400/60000 (64%)]\tLoss: 0.184000\n",
            "Train Epoch: 2 [44800/60000 (75%)]\tLoss: 0.217907\n",
            "Train Epoch: 2 [51200/60000 (85%)]\tLoss: 0.427135\n",
            "Train Epoch: 2 [57600/60000 (96%)]\tLoss: 0.131678\n",
            "\n",
            "Test set: Average loss: 0.4078, Accuracy: 8551/10000 (86%)\n",
            "\n",
            "Train Epoch: 3 [0/60000 (0%)]\tLoss: 0.388240\n",
            "Train Epoch: 3 [6400/60000 (11%)]\tLoss: 0.255333\n",
            "Train Epoch: 3 [12800/60000 (21%)]\tLoss: 0.111403\n",
            "Train Epoch: 3 [19200/60000 (32%)]\tLoss: 0.275545\n",
            "Train Epoch: 3 [25600/60000 (43%)]\tLoss: 0.259212\n",
            "Train Epoch: 3 [32000/60000 (53%)]\tLoss: 0.278462\n",
            "Train Epoch: 3 [38400/60000 (64%)]\tLoss: 0.376832\n",
            "Train Epoch: 3 [44800/60000 (75%)]\tLoss: 0.181565\n",
            "Train Epoch: 3 [51200/60000 (85%)]\tLoss: 0.205902\n",
            "Train Epoch: 3 [57600/60000 (96%)]\tLoss: 0.270253\n",
            "\n",
            "Test set: Average loss: 0.3860, Accuracy: 8681/10000 (87%)\n",
            "\n",
            "Train Epoch: 4 [0/60000 (0%)]\tLoss: 0.267807\n",
            "Train Epoch: 4 [6400/60000 (11%)]\tLoss: 0.111366\n",
            "Train Epoch: 4 [12800/60000 (21%)]\tLoss: 0.192471\n",
            "Train Epoch: 4 [19200/60000 (32%)]\tLoss: 0.347091\n",
            "Train Epoch: 4 [25600/60000 (43%)]\tLoss: 0.194508\n",
            "Train Epoch: 4 [32000/60000 (53%)]\tLoss: 0.247992\n",
            "Train Epoch: 4 [38400/60000 (64%)]\tLoss: 0.309675\n",
            "Train Epoch: 4 [44800/60000 (75%)]\tLoss: 0.247007\n",
            "Train Epoch: 4 [51200/60000 (85%)]\tLoss: 0.201275\n",
            "Train Epoch: 4 [57600/60000 (96%)]\tLoss: 0.182849\n",
            "\n",
            "Test set: Average loss: 0.3256, Accuracy: 8814/10000 (88%)\n",
            "\n",
            "Train Epoch: 5 [0/60000 (0%)]\tLoss: 0.267912\n",
            "Train Epoch: 5 [6400/60000 (11%)]\tLoss: 0.141694\n",
            "Train Epoch: 5 [12800/60000 (21%)]\tLoss: 0.185365\n",
            "Train Epoch: 5 [19200/60000 (32%)]\tLoss: 0.220636\n",
            "Train Epoch: 5 [25600/60000 (43%)]\tLoss: 0.169333\n",
            "Train Epoch: 5 [32000/60000 (53%)]\tLoss: 0.133201\n",
            "Train Epoch: 5 [38400/60000 (64%)]\tLoss: 0.243723\n",
            "Train Epoch: 5 [44800/60000 (75%)]\tLoss: 0.529075\n",
            "Train Epoch: 5 [51200/60000 (85%)]\tLoss: 0.317287\n",
            "Train Epoch: 5 [57600/60000 (96%)]\tLoss: 0.315316\n",
            "\n",
            "Test set: Average loss: 0.3395, Accuracy: 8795/10000 (88%)\n",
            "\n",
            "Train Epoch: 6 [0/60000 (0%)]\tLoss: 0.317357\n",
            "Train Epoch: 6 [6400/60000 (11%)]\tLoss: 0.179080\n",
            "Train Epoch: 6 [12800/60000 (21%)]\tLoss: 0.227961\n",
            "Train Epoch: 6 [19200/60000 (32%)]\tLoss: 0.386859\n",
            "Train Epoch: 6 [25600/60000 (43%)]\tLoss: 0.213635\n",
            "Train Epoch: 6 [32000/60000 (53%)]\tLoss: 0.322400\n",
            "Train Epoch: 6 [38400/60000 (64%)]\tLoss: 0.187523\n",
            "Train Epoch: 6 [44800/60000 (75%)]\tLoss: 0.197739\n",
            "Train Epoch: 6 [51200/60000 (85%)]\tLoss: 0.142435\n",
            "Train Epoch: 6 [57600/60000 (96%)]\tLoss: 0.368795\n",
            "\n",
            "Test set: Average loss: 0.3291, Accuracy: 8893/10000 (89%)\n",
            "\n",
            "Train Epoch: 7 [0/60000 (0%)]\tLoss: 0.076835\n",
            "Train Epoch: 7 [6400/60000 (11%)]\tLoss: 0.160321\n",
            "Train Epoch: 7 [12800/60000 (21%)]\tLoss: 0.055988\n",
            "Train Epoch: 7 [19200/60000 (32%)]\tLoss: 0.270048\n",
            "Train Epoch: 7 [25600/60000 (43%)]\tLoss: 0.129026\n",
            "Train Epoch: 7 [32000/60000 (53%)]\tLoss: 0.133686\n",
            "Train Epoch: 7 [38400/60000 (64%)]\tLoss: 0.101007\n",
            "Train Epoch: 7 [44800/60000 (75%)]\tLoss: 0.184689\n",
            "Train Epoch: 7 [51200/60000 (85%)]\tLoss: 0.257824\n",
            "Train Epoch: 7 [57600/60000 (96%)]\tLoss: 0.108646\n",
            "\n",
            "Test set: Average loss: 0.3170, Accuracy: 8860/10000 (89%)\n",
            "\n",
            "Train Epoch: 8 [0/60000 (0%)]\tLoss: 0.198095\n",
            "Train Epoch: 8 [6400/60000 (11%)]\tLoss: 0.235105\n",
            "Train Epoch: 8 [12800/60000 (21%)]\tLoss: 0.351488\n",
            "Train Epoch: 8 [19200/60000 (32%)]\tLoss: 0.125094\n",
            "Train Epoch: 8 [25600/60000 (43%)]\tLoss: 0.227717\n",
            "Train Epoch: 8 [32000/60000 (53%)]\tLoss: 0.193439\n",
            "Train Epoch: 8 [38400/60000 (64%)]\tLoss: 0.398813\n",
            "Train Epoch: 8 [44800/60000 (75%)]\tLoss: 0.267326\n",
            "Train Epoch: 8 [51200/60000 (85%)]\tLoss: 0.167173\n",
            "Train Epoch: 8 [57600/60000 (96%)]\tLoss: 0.320421\n",
            "\n",
            "Test set: Average loss: 0.3139, Accuracy: 8922/10000 (89%)\n",
            "\n",
            "Train Epoch: 9 [0/60000 (0%)]\tLoss: 0.204597\n",
            "Train Epoch: 9 [6400/60000 (11%)]\tLoss: 0.351633\n",
            "Train Epoch: 9 [12800/60000 (21%)]\tLoss: 0.227038\n",
            "Train Epoch: 9 [19200/60000 (32%)]\tLoss: 0.355501\n",
            "Train Epoch: 9 [25600/60000 (43%)]\tLoss: 0.076723\n",
            "Train Epoch: 9 [32000/60000 (53%)]\tLoss: 0.231627\n",
            "Train Epoch: 9 [38400/60000 (64%)]\tLoss: 0.348524\n",
            "Train Epoch: 9 [44800/60000 (75%)]\tLoss: 0.166166\n",
            "Train Epoch: 9 [51200/60000 (85%)]\tLoss: 0.101575\n",
            "Train Epoch: 9 [57600/60000 (96%)]\tLoss: 0.224494\n",
            "\n",
            "Test set: Average loss: 0.3153, Accuracy: 8915/10000 (89%)\n",
            "\n",
            "Train Epoch: 10 [0/60000 (0%)]\tLoss: 0.119227\n",
            "Train Epoch: 10 [6400/60000 (11%)]\tLoss: 0.225951\n",
            "Train Epoch: 10 [12800/60000 (21%)]\tLoss: 0.073528\n",
            "Train Epoch: 10 [19200/60000 (32%)]\tLoss: 0.112121\n",
            "Train Epoch: 10 [25600/60000 (43%)]\tLoss: 0.087280\n",
            "Train Epoch: 10 [32000/60000 (53%)]\tLoss: 0.105091\n",
            "Train Epoch: 10 [38400/60000 (64%)]\tLoss: 0.284985\n",
            "Train Epoch: 10 [44800/60000 (75%)]\tLoss: 0.107390\n",
            "Train Epoch: 10 [51200/60000 (85%)]\tLoss: 0.190456\n",
            "Train Epoch: 10 [57600/60000 (96%)]\tLoss: 0.172873\n",
            "\n",
            "Test set: Average loss: 0.3137, Accuracy: 8906/10000 (89%)\n",
            "\n",
            "Train Epoch: 11 [0/60000 (0%)]\tLoss: 0.266573\n",
            "Train Epoch: 11 [6400/60000 (11%)]\tLoss: 0.104540\n",
            "Train Epoch: 11 [12800/60000 (21%)]\tLoss: 0.364465\n",
            "Train Epoch: 11 [19200/60000 (32%)]\tLoss: 0.138088\n",
            "Train Epoch: 11 [25600/60000 (43%)]\tLoss: 0.150311\n",
            "Train Epoch: 11 [32000/60000 (53%)]\tLoss: 0.165538\n",
            "Train Epoch: 11 [38400/60000 (64%)]\tLoss: 0.140066\n",
            "Train Epoch: 11 [44800/60000 (75%)]\tLoss: 0.208744\n",
            "Train Epoch: 11 [51200/60000 (85%)]\tLoss: 0.090720\n",
            "Train Epoch: 11 [57600/60000 (96%)]\tLoss: 0.243887\n",
            "\n",
            "Test set: Average loss: 0.3137, Accuracy: 8921/10000 (89%)\n",
            "\n",
            "Train Epoch: 12 [0/60000 (0%)]\tLoss: 0.117317\n",
            "Train Epoch: 12 [6400/60000 (11%)]\tLoss: 0.211933\n",
            "Train Epoch: 12 [12800/60000 (21%)]\tLoss: 0.127702\n",
            "Train Epoch: 12 [19200/60000 (32%)]\tLoss: 0.124191\n",
            "Train Epoch: 12 [25600/60000 (43%)]\tLoss: 0.167463\n",
            "Train Epoch: 12 [32000/60000 (53%)]\tLoss: 0.083245\n",
            "Train Epoch: 12 [38400/60000 (64%)]\tLoss: 0.219352\n",
            "Train Epoch: 12 [44800/60000 (75%)]\tLoss: 0.223599\n",
            "Train Epoch: 12 [51200/60000 (85%)]\tLoss: 0.127793\n",
            "Train Epoch: 12 [57600/60000 (96%)]\tLoss: 0.260708\n",
            "\n",
            "Test set: Average loss: 0.3139, Accuracy: 8924/10000 (89%)\n",
            "\n",
            "Train Epoch: 13 [0/60000 (0%)]\tLoss: 0.253280\n",
            "Train Epoch: 13 [6400/60000 (11%)]\tLoss: 0.217493\n",
            "Train Epoch: 13 [12800/60000 (21%)]\tLoss: 0.096731\n",
            "Train Epoch: 13 [19200/60000 (32%)]\tLoss: 0.254085\n",
            "Train Epoch: 13 [25600/60000 (43%)]\tLoss: 0.272905\n",
            "Train Epoch: 13 [32000/60000 (53%)]\tLoss: 0.220865\n",
            "Train Epoch: 13 [38400/60000 (64%)]\tLoss: 0.149361\n",
            "Train Epoch: 13 [44800/60000 (75%)]\tLoss: 0.182740\n",
            "Train Epoch: 13 [51200/60000 (85%)]\tLoss: 0.152677\n",
            "Train Epoch: 13 [57600/60000 (96%)]\tLoss: 0.074490\n",
            "\n",
            "Test set: Average loss: 0.3132, Accuracy: 8923/10000 (89%)\n",
            "\n",
            "Train Epoch: 14 [0/60000 (0%)]\tLoss: 0.136486\n",
            "Train Epoch: 14 [6400/60000 (11%)]\tLoss: 0.153188\n",
            "Train Epoch: 14 [12800/60000 (21%)]\tLoss: 0.232816\n",
            "Train Epoch: 14 [19200/60000 (32%)]\tLoss: 0.117630\n",
            "Train Epoch: 14 [25600/60000 (43%)]\tLoss: 0.263109\n",
            "Train Epoch: 14 [32000/60000 (53%)]\tLoss: 0.167194\n",
            "Train Epoch: 14 [38400/60000 (64%)]\tLoss: 0.135054\n",
            "Train Epoch: 14 [44800/60000 (75%)]\tLoss: 0.136310\n",
            "Train Epoch: 14 [51200/60000 (85%)]\tLoss: 0.075476\n",
            "Train Epoch: 14 [57600/60000 (96%)]\tLoss: 0.243310\n",
            "\n",
            "Test set: Average loss: 0.3142, Accuracy: 8921/10000 (89%)\n",
            "\n",
            "Salvando o modelo com a menor perda de 0.3132079437255859 e a melhor acurácia de 89.2%\n"
          ]
        }
      ],
      "source": [
        "use_cuda = torch.cuda.is_available()\n",
        "torch.manual_seed(1111)\n",
        "\n",
        "device = torch.device(\"cuda\" if use_cuda else \"cpu\")\n",
        "#apenas utilizado para testes na máquina de desenvolvimento, com Apple M1 Max\n",
        "#device = torch.device(\"mps\")\n",
        "\n",
        "train_kwargs = {'batch_size': 64}\n",
        "test_kwargs = {'batch_size': 1000}\n",
        "if use_cuda:\n",
        "    cuda_kwargs = {'num_workers': 10,\n",
        "                    'pin_memory': True,\n",
        "                    'shuffle': True}\n",
        "    train_kwargs.update(cuda_kwargs)\n",
        "    test_kwargs.update(cuda_kwargs)\n",
        "\n",
        "transform=transforms.Compose([\n",
        "    transforms.ToTensor(),\n",
        "    transforms.Normalize((0.1307,), (0.3081,))\n",
        "    ])\n",
        "\n",
        "dataset_train = datasets.FashionMNIST('../data', train=True, download=True,\n",
        "                    transform=transform)\n",
        "dataset_test = datasets.FashionMNIST('../data', train=False, download=True,\n",
        "                    transform=transform)\n",
        "\n",
        "\n",
        "train_loader = torch.utils.data.DataLoader(dataset_train,**train_kwargs)\n",
        "test_loader = torch.utils.data.DataLoader(dataset_test, **test_kwargs)\n",
        "\n",
        "model = Net().to(device)\n",
        "\n",
        "optimizer = optim.Adadelta(model.parameters(), lr=0.7)\n",
        "\n",
        "epochs = 14\n",
        "\n",
        "scheduler = StepLR(optimizer, step_size=1, gamma=0.7)\n",
        "\n",
        "best_loss = 100\n",
        "best_accuracy = 0\n",
        "\n",
        "test_losses = []\n",
        "train_losses = []\n",
        "\n",
        "test_accuracies = []\n",
        "train_accuracies = []\n",
        "\n",
        "for epoch in range(1, epochs + 1):\n",
        "    train_loss, train_accuracy = train(100, False, model, device, train_loader, optimizer, epoch)\n",
        "    test_loss, test_accuracy, labels_list, predictions_list  = test(model, device, test_loader)\n",
        "\n",
        "    test_losses.append(test_loss)\n",
        "    train_losses.append(train_loss)\n",
        "    test_accuracies.append(test_accuracy)\n",
        "    train_accuracies.append(train_accuracy)\n",
        "\n",
        "    if (test_loss <= best_loss) & (test_accuracy >= best_accuracy):\n",
        "        best_loss = test_loss\n",
        "        best_accuracy = test_accuracy\n",
        "        best_model = copy.deepcopy(model)\n",
        "    scheduler.step()\n",
        "\n",
        "print(f'Salvando o modelo com a menor perda de {best_loss} e a melhor acurácia de {round(best_accuracy, 1)}%')\n",
        "torch.save(best_model.state_dict(), \"mnist_cnn.pt\")"
      ]
    },
    {
      "cell_type": "markdown",
      "source": [
        "## Salvando a melhor acurácia com a menor perda"
      ],
      "metadata": {
        "collapsed": false,
        "id": "MC3W27lZYVqY"
      }
    },
    {
      "cell_type": "code",
      "execution_count": 7,
      "outputs": [
        {
          "output_type": "stream",
          "name": "stdout",
          "text": [
            "Salvando o modelo com a menor perda de 0.3132079437255859 e a melhor acurácia de 89.2%\n"
          ]
        }
      ],
      "source": [
        "print(f'Salvando o modelo com a menor perda de {best_loss} e a melhor acurácia de {round(best_accuracy, 1)}%')\n",
        "torch.save(best_model.state_dict(), \"mnist_cnn.pt\")"
      ],
      "metadata": {
        "ExecuteTime": {
          "end_time": "2024-06-26T15:45:07.107727Z",
          "start_time": "2024-06-26T15:45:07.101359Z"
        },
        "colab": {
          "base_uri": "https://localhost:8080/"
        },
        "id": "G3iYfRyjYVqY",
        "outputId": "8093a16f-05cb-4efa-c54b-b38e117380b2"
      }
    },
    {
      "cell_type": "markdown",
      "source": [
        "## Gerando a matriz de confusão e o relatório de classificação"
      ],
      "metadata": {
        "collapsed": false,
        "id": "H0oYc6S4YVqY"
      }
    },
    {
      "cell_type": "code",
      "execution_count": 8,
      "outputs": [
        {
          "output_type": "stream",
          "name": "stdout",
          "text": [
            "\n",
            "Test set: Average loss: 0.3132, Accuracy: 8923/10000 (89%)\n",
            "\n"
          ]
        }
      ],
      "source": [
        "test_loss, test_accuracy, labels_list, predictions_list = test(best_model, device, test_loader)"
      ],
      "metadata": {
        "ExecuteTime": {
          "end_time": "2024-06-26T15:45:07.562945Z",
          "start_time": "2024-06-26T15:45:07.107408Z"
        },
        "colab": {
          "base_uri": "https://localhost:8080/"
        },
        "id": "IlRpGkIcYVqY",
        "outputId": "e83df051-b48d-45d5-bf8f-d16061a7994a"
      }
    },
    {
      "cell_type": "code",
      "execution_count": 9,
      "outputs": [],
      "source": [
        "from itertools import chain\n",
        "\n",
        "predictions_l = [predictions_list[i].tolist() for i in range(len(predictions_list))]\n",
        "labels_l = [labels_list[i].tolist() for i in range(len(labels_list))]\n",
        "predictions_l = list(chain.from_iterable(predictions_l))\n",
        "labels_l = list(chain.from_iterable(labels_l))"
      ],
      "metadata": {
        "ExecuteTime": {
          "end_time": "2024-06-26T15:45:07.570128Z",
          "start_time": "2024-06-26T15:45:07.560824Z"
        },
        "id": "T1UQz8MZYVqY"
      }
    },
    {
      "cell_type": "markdown",
      "source": [
        "- Matriz de confusão:"
      ],
      "metadata": {
        "id": "nYcSWbdKcKXp"
      }
    },
    {
      "cell_type": "code",
      "execution_count": 15,
      "outputs": [
        {
          "output_type": "execute_result",
          "data": {
            "text/plain": [
              "     0    1    2    3    4    5    6    7    8    9\n",
              "0  828    0   16   23    2    0  122    0    9    0\n",
              "1    3  974    0   18    3    0    2    0    0    0\n",
              "2   14    1  800   12  105    0   67    0    1    0\n",
              "3   21    8    9  893   39    0   25    0    5    0\n",
              "4    1    1   68   30  849    0   51    0    0    0\n",
              "5    0    0    0    1    0  955    0   21    1   22\n",
              "6   89    1   72   29   68    0  733    0    8    0\n",
              "7    0    0    0    0    0   13    0  964    0   23\n",
              "8    6    0    1    3    7    3    8    5  967    0\n",
              "9    0    0    0    0    0    6    1   33    0  960"
            ],
            "text/html": [
              "\n",
              "  <div id=\"df-9b7f58b3-e11e-4549-a3c9-29a26560fb4e\" class=\"colab-df-container\">\n",
              "    <div>\n",
              "<style scoped>\n",
              "    .dataframe tbody tr th:only-of-type {\n",
              "        vertical-align: middle;\n",
              "    }\n",
              "\n",
              "    .dataframe tbody tr th {\n",
              "        vertical-align: top;\n",
              "    }\n",
              "\n",
              "    .dataframe thead th {\n",
              "        text-align: right;\n",
              "    }\n",
              "</style>\n",
              "<table border=\"1\" class=\"dataframe\">\n",
              "  <thead>\n",
              "    <tr style=\"text-align: right;\">\n",
              "      <th></th>\n",
              "      <th>0</th>\n",
              "      <th>1</th>\n",
              "      <th>2</th>\n",
              "      <th>3</th>\n",
              "      <th>4</th>\n",
              "      <th>5</th>\n",
              "      <th>6</th>\n",
              "      <th>7</th>\n",
              "      <th>8</th>\n",
              "      <th>9</th>\n",
              "    </tr>\n",
              "  </thead>\n",
              "  <tbody>\n",
              "    <tr>\n",
              "      <th>0</th>\n",
              "      <td>828</td>\n",
              "      <td>0</td>\n",
              "      <td>16</td>\n",
              "      <td>23</td>\n",
              "      <td>2</td>\n",
              "      <td>0</td>\n",
              "      <td>122</td>\n",
              "      <td>0</td>\n",
              "      <td>9</td>\n",
              "      <td>0</td>\n",
              "    </tr>\n",
              "    <tr>\n",
              "      <th>1</th>\n",
              "      <td>3</td>\n",
              "      <td>974</td>\n",
              "      <td>0</td>\n",
              "      <td>18</td>\n",
              "      <td>3</td>\n",
              "      <td>0</td>\n",
              "      <td>2</td>\n",
              "      <td>0</td>\n",
              "      <td>0</td>\n",
              "      <td>0</td>\n",
              "    </tr>\n",
              "    <tr>\n",
              "      <th>2</th>\n",
              "      <td>14</td>\n",
              "      <td>1</td>\n",
              "      <td>800</td>\n",
              "      <td>12</td>\n",
              "      <td>105</td>\n",
              "      <td>0</td>\n",
              "      <td>67</td>\n",
              "      <td>0</td>\n",
              "      <td>1</td>\n",
              "      <td>0</td>\n",
              "    </tr>\n",
              "    <tr>\n",
              "      <th>3</th>\n",
              "      <td>21</td>\n",
              "      <td>8</td>\n",
              "      <td>9</td>\n",
              "      <td>893</td>\n",
              "      <td>39</td>\n",
              "      <td>0</td>\n",
              "      <td>25</td>\n",
              "      <td>0</td>\n",
              "      <td>5</td>\n",
              "      <td>0</td>\n",
              "    </tr>\n",
              "    <tr>\n",
              "      <th>4</th>\n",
              "      <td>1</td>\n",
              "      <td>1</td>\n",
              "      <td>68</td>\n",
              "      <td>30</td>\n",
              "      <td>849</td>\n",
              "      <td>0</td>\n",
              "      <td>51</td>\n",
              "      <td>0</td>\n",
              "      <td>0</td>\n",
              "      <td>0</td>\n",
              "    </tr>\n",
              "    <tr>\n",
              "      <th>5</th>\n",
              "      <td>0</td>\n",
              "      <td>0</td>\n",
              "      <td>0</td>\n",
              "      <td>1</td>\n",
              "      <td>0</td>\n",
              "      <td>955</td>\n",
              "      <td>0</td>\n",
              "      <td>21</td>\n",
              "      <td>1</td>\n",
              "      <td>22</td>\n",
              "    </tr>\n",
              "    <tr>\n",
              "      <th>6</th>\n",
              "      <td>89</td>\n",
              "      <td>1</td>\n",
              "      <td>72</td>\n",
              "      <td>29</td>\n",
              "      <td>68</td>\n",
              "      <td>0</td>\n",
              "      <td>733</td>\n",
              "      <td>0</td>\n",
              "      <td>8</td>\n",
              "      <td>0</td>\n",
              "    </tr>\n",
              "    <tr>\n",
              "      <th>7</th>\n",
              "      <td>0</td>\n",
              "      <td>0</td>\n",
              "      <td>0</td>\n",
              "      <td>0</td>\n",
              "      <td>0</td>\n",
              "      <td>13</td>\n",
              "      <td>0</td>\n",
              "      <td>964</td>\n",
              "      <td>0</td>\n",
              "      <td>23</td>\n",
              "    </tr>\n",
              "    <tr>\n",
              "      <th>8</th>\n",
              "      <td>6</td>\n",
              "      <td>0</td>\n",
              "      <td>1</td>\n",
              "      <td>3</td>\n",
              "      <td>7</td>\n",
              "      <td>3</td>\n",
              "      <td>8</td>\n",
              "      <td>5</td>\n",
              "      <td>967</td>\n",
              "      <td>0</td>\n",
              "    </tr>\n",
              "    <tr>\n",
              "      <th>9</th>\n",
              "      <td>0</td>\n",
              "      <td>0</td>\n",
              "      <td>0</td>\n",
              "      <td>0</td>\n",
              "      <td>0</td>\n",
              "      <td>6</td>\n",
              "      <td>1</td>\n",
              "      <td>33</td>\n",
              "      <td>0</td>\n",
              "      <td>960</td>\n",
              "    </tr>\n",
              "  </tbody>\n",
              "</table>\n",
              "</div>\n",
              "    <div class=\"colab-df-buttons\">\n",
              "\n",
              "  <div class=\"colab-df-container\">\n",
              "    <button class=\"colab-df-convert\" onclick=\"convertToInteractive('df-9b7f58b3-e11e-4549-a3c9-29a26560fb4e')\"\n",
              "            title=\"Convert this dataframe to an interactive table.\"\n",
              "            style=\"display:none;\">\n",
              "\n",
              "  <svg xmlns=\"http://www.w3.org/2000/svg\" height=\"24px\" viewBox=\"0 -960 960 960\">\n",
              "    <path d=\"M120-120v-720h720v720H120Zm60-500h600v-160H180v160Zm220 220h160v-160H400v160Zm0 220h160v-160H400v160ZM180-400h160v-160H180v160Zm440 0h160v-160H620v160ZM180-180h160v-160H180v160Zm440 0h160v-160H620v160Z\"/>\n",
              "  </svg>\n",
              "    </button>\n",
              "\n",
              "  <style>\n",
              "    .colab-df-container {\n",
              "      display:flex;\n",
              "      gap: 12px;\n",
              "    }\n",
              "\n",
              "    .colab-df-convert {\n",
              "      background-color: #E8F0FE;\n",
              "      border: none;\n",
              "      border-radius: 50%;\n",
              "      cursor: pointer;\n",
              "      display: none;\n",
              "      fill: #1967D2;\n",
              "      height: 32px;\n",
              "      padding: 0 0 0 0;\n",
              "      width: 32px;\n",
              "    }\n",
              "\n",
              "    .colab-df-convert:hover {\n",
              "      background-color: #E2EBFA;\n",
              "      box-shadow: 0px 1px 2px rgba(60, 64, 67, 0.3), 0px 1px 3px 1px rgba(60, 64, 67, 0.15);\n",
              "      fill: #174EA6;\n",
              "    }\n",
              "\n",
              "    .colab-df-buttons div {\n",
              "      margin-bottom: 4px;\n",
              "    }\n",
              "\n",
              "    [theme=dark] .colab-df-convert {\n",
              "      background-color: #3B4455;\n",
              "      fill: #D2E3FC;\n",
              "    }\n",
              "\n",
              "    [theme=dark] .colab-df-convert:hover {\n",
              "      background-color: #434B5C;\n",
              "      box-shadow: 0px 1px 3px 1px rgba(0, 0, 0, 0.15);\n",
              "      filter: drop-shadow(0px 1px 2px rgba(0, 0, 0, 0.3));\n",
              "      fill: #FFFFFF;\n",
              "    }\n",
              "  </style>\n",
              "\n",
              "    <script>\n",
              "      const buttonEl =\n",
              "        document.querySelector('#df-9b7f58b3-e11e-4549-a3c9-29a26560fb4e button.colab-df-convert');\n",
              "      buttonEl.style.display =\n",
              "        google.colab.kernel.accessAllowed ? 'block' : 'none';\n",
              "\n",
              "      async function convertToInteractive(key) {\n",
              "        const element = document.querySelector('#df-9b7f58b3-e11e-4549-a3c9-29a26560fb4e');\n",
              "        const dataTable =\n",
              "          await google.colab.kernel.invokeFunction('convertToInteractive',\n",
              "                                                    [key], {});\n",
              "        if (!dataTable) return;\n",
              "\n",
              "        const docLinkHtml = 'Like what you see? Visit the ' +\n",
              "          '<a target=\"_blank\" href=https://colab.research.google.com/notebooks/data_table.ipynb>data table notebook</a>'\n",
              "          + ' to learn more about interactive tables.';\n",
              "        element.innerHTML = '';\n",
              "        dataTable['output_type'] = 'display_data';\n",
              "        await google.colab.output.renderOutput(dataTable, element);\n",
              "        const docLink = document.createElement('div');\n",
              "        docLink.innerHTML = docLinkHtml;\n",
              "        element.appendChild(docLink);\n",
              "      }\n",
              "    </script>\n",
              "  </div>\n",
              "\n",
              "\n",
              "<div id=\"df-ecb237a8-f229-4862-a791-11fdee3bc29a\">\n",
              "  <button class=\"colab-df-quickchart\" onclick=\"quickchart('df-ecb237a8-f229-4862-a791-11fdee3bc29a')\"\n",
              "            title=\"Suggest charts\"\n",
              "            style=\"display:none;\">\n",
              "\n",
              "<svg xmlns=\"http://www.w3.org/2000/svg\" height=\"24px\"viewBox=\"0 0 24 24\"\n",
              "     width=\"24px\">\n",
              "    <g>\n",
              "        <path d=\"M19 3H5c-1.1 0-2 .9-2 2v14c0 1.1.9 2 2 2h14c1.1 0 2-.9 2-2V5c0-1.1-.9-2-2-2zM9 17H7v-7h2v7zm4 0h-2V7h2v10zm4 0h-2v-4h2v4z\"/>\n",
              "    </g>\n",
              "</svg>\n",
              "  </button>\n",
              "\n",
              "<style>\n",
              "  .colab-df-quickchart {\n",
              "      --bg-color: #E8F0FE;\n",
              "      --fill-color: #1967D2;\n",
              "      --hover-bg-color: #E2EBFA;\n",
              "      --hover-fill-color: #174EA6;\n",
              "      --disabled-fill-color: #AAA;\n",
              "      --disabled-bg-color: #DDD;\n",
              "  }\n",
              "\n",
              "  [theme=dark] .colab-df-quickchart {\n",
              "      --bg-color: #3B4455;\n",
              "      --fill-color: #D2E3FC;\n",
              "      --hover-bg-color: #434B5C;\n",
              "      --hover-fill-color: #FFFFFF;\n",
              "      --disabled-bg-color: #3B4455;\n",
              "      --disabled-fill-color: #666;\n",
              "  }\n",
              "\n",
              "  .colab-df-quickchart {\n",
              "    background-color: var(--bg-color);\n",
              "    border: none;\n",
              "    border-radius: 50%;\n",
              "    cursor: pointer;\n",
              "    display: none;\n",
              "    fill: var(--fill-color);\n",
              "    height: 32px;\n",
              "    padding: 0;\n",
              "    width: 32px;\n",
              "  }\n",
              "\n",
              "  .colab-df-quickchart:hover {\n",
              "    background-color: var(--hover-bg-color);\n",
              "    box-shadow: 0 1px 2px rgba(60, 64, 67, 0.3), 0 1px 3px 1px rgba(60, 64, 67, 0.15);\n",
              "    fill: var(--button-hover-fill-color);\n",
              "  }\n",
              "\n",
              "  .colab-df-quickchart-complete:disabled,\n",
              "  .colab-df-quickchart-complete:disabled:hover {\n",
              "    background-color: var(--disabled-bg-color);\n",
              "    fill: var(--disabled-fill-color);\n",
              "    box-shadow: none;\n",
              "  }\n",
              "\n",
              "  .colab-df-spinner {\n",
              "    border: 2px solid var(--fill-color);\n",
              "    border-color: transparent;\n",
              "    border-bottom-color: var(--fill-color);\n",
              "    animation:\n",
              "      spin 1s steps(1) infinite;\n",
              "  }\n",
              "\n",
              "  @keyframes spin {\n",
              "    0% {\n",
              "      border-color: transparent;\n",
              "      border-bottom-color: var(--fill-color);\n",
              "      border-left-color: var(--fill-color);\n",
              "    }\n",
              "    20% {\n",
              "      border-color: transparent;\n",
              "      border-left-color: var(--fill-color);\n",
              "      border-top-color: var(--fill-color);\n",
              "    }\n",
              "    30% {\n",
              "      border-color: transparent;\n",
              "      border-left-color: var(--fill-color);\n",
              "      border-top-color: var(--fill-color);\n",
              "      border-right-color: var(--fill-color);\n",
              "    }\n",
              "    40% {\n",
              "      border-color: transparent;\n",
              "      border-right-color: var(--fill-color);\n",
              "      border-top-color: var(--fill-color);\n",
              "    }\n",
              "    60% {\n",
              "      border-color: transparent;\n",
              "      border-right-color: var(--fill-color);\n",
              "    }\n",
              "    80% {\n",
              "      border-color: transparent;\n",
              "      border-right-color: var(--fill-color);\n",
              "      border-bottom-color: var(--fill-color);\n",
              "    }\n",
              "    90% {\n",
              "      border-color: transparent;\n",
              "      border-bottom-color: var(--fill-color);\n",
              "    }\n",
              "  }\n",
              "</style>\n",
              "\n",
              "  <script>\n",
              "    async function quickchart(key) {\n",
              "      const quickchartButtonEl =\n",
              "        document.querySelector('#' + key + ' button');\n",
              "      quickchartButtonEl.disabled = true;  // To prevent multiple clicks.\n",
              "      quickchartButtonEl.classList.add('colab-df-spinner');\n",
              "      try {\n",
              "        const charts = await google.colab.kernel.invokeFunction(\n",
              "            'suggestCharts', [key], {});\n",
              "      } catch (error) {\n",
              "        console.error('Error during call to suggestCharts:', error);\n",
              "      }\n",
              "      quickchartButtonEl.classList.remove('colab-df-spinner');\n",
              "      quickchartButtonEl.classList.add('colab-df-quickchart-complete');\n",
              "    }\n",
              "    (() => {\n",
              "      let quickchartButtonEl =\n",
              "        document.querySelector('#df-ecb237a8-f229-4862-a791-11fdee3bc29a button');\n",
              "      quickchartButtonEl.style.display =\n",
              "        google.colab.kernel.accessAllowed ? 'block' : 'none';\n",
              "    })();\n",
              "  </script>\n",
              "</div>\n",
              "\n",
              "    </div>\n",
              "  </div>\n"
            ],
            "application/vnd.google.colaboratory.intrinsic+json": {
              "type": "dataframe",
              "summary": "{\n  \"name\": \"pd\",\n  \"rows\": 10,\n  \"fields\": [\n    {\n      \"column\": 0,\n      \"properties\": {\n        \"dtype\": \"number\",\n        \"std\": 258,\n        \"min\": 0,\n        \"max\": 828,\n        \"num_unique_values\": 8,\n        \"samples\": [\n          3,\n          0,\n          828\n        ],\n        \"semantic_type\": \"\",\n        \"description\": \"\"\n      }\n    },\n    {\n      \"column\": 1,\n      \"properties\": {\n        \"dtype\": \"number\",\n        \"std\": 307,\n        \"min\": 0,\n        \"max\": 974,\n        \"num_unique_values\": 4,\n        \"samples\": [\n          974,\n          8,\n          0\n        ],\n        \"semantic_type\": \"\",\n        \"description\": \"\"\n      }\n    },\n    {\n      \"column\": 2,\n      \"properties\": {\n        \"dtype\": \"number\",\n        \"std\": 248,\n        \"min\": 0,\n        \"max\": 800,\n        \"num_unique_values\": 7,\n        \"samples\": [\n          16,\n          0,\n          72\n        ],\n        \"semantic_type\": \"\",\n        \"description\": \"\"\n      }\n    },\n    {\n      \"column\": 3,\n      \"properties\": {\n        \"dtype\": \"number\",\n        \"std\": 278,\n        \"min\": 0,\n        \"max\": 893,\n        \"num_unique_values\": 9,\n        \"samples\": [\n          0,\n          18,\n          1\n        ],\n        \"semantic_type\": \"\",\n        \"description\": \"\"\n      }\n    },\n    {\n      \"column\": 4,\n      \"properties\": {\n        \"dtype\": \"number\",\n        \"std\": 263,\n        \"min\": 0,\n        \"max\": 849,\n        \"num_unique_values\": 8,\n        \"samples\": [\n          3,\n          0,\n          2\n        ],\n        \"semantic_type\": \"\",\n        \"description\": \"\"\n      }\n    },\n    {\n      \"column\": 5,\n      \"properties\": {\n        \"dtype\": \"number\",\n        \"std\": 301,\n        \"min\": 0,\n        \"max\": 955,\n        \"num_unique_values\": 5,\n        \"samples\": [\n          955,\n          6,\n          13\n        ],\n        \"semantic_type\": \"\",\n        \"description\": \"\"\n      }\n    },\n    {\n      \"column\": 6,\n      \"properties\": {\n        \"dtype\": \"number\",\n        \"std\": 225,\n        \"min\": 0,\n        \"max\": 733,\n        \"num_unique_values\": 9,\n        \"samples\": [\n          8,\n          2,\n          0\n        ],\n        \"semantic_type\": \"\",\n        \"description\": \"\"\n      }\n    },\n    {\n      \"column\": 7,\n      \"properties\": {\n        \"dtype\": \"number\",\n        \"std\": 302,\n        \"min\": 0,\n        \"max\": 964,\n        \"num_unique_values\": 5,\n        \"samples\": [\n          21,\n          33,\n          964\n        ],\n        \"semantic_type\": \"\",\n        \"description\": \"\"\n      }\n    },\n    {\n      \"column\": 8,\n      \"properties\": {\n        \"dtype\": \"number\",\n        \"std\": 304,\n        \"min\": 0,\n        \"max\": 967,\n        \"num_unique_values\": 6,\n        \"samples\": [\n          9,\n          0,\n          967\n        ],\n        \"semantic_type\": \"\",\n        \"description\": \"\"\n      }\n    },\n    {\n      \"column\": 9,\n      \"properties\": {\n        \"dtype\": \"number\",\n        \"std\": 302,\n        \"min\": 0,\n        \"max\": 960,\n        \"num_unique_values\": 4,\n        \"samples\": [\n          22,\n          960,\n          0\n        ],\n        \"semantic_type\": \"\",\n        \"description\": \"\"\n      }\n    }\n  ]\n}"
            }
          },
          "metadata": {},
          "execution_count": 15
        }
      ],
      "source": [
        "import sklearn.metrics as metrics\n",
        "from sklearn.metrics import confusion_matrix\n",
        "pd.DataFrame(confusion_matrix(labels_l, predictions_l))"
      ],
      "metadata": {
        "ExecuteTime": {
          "end_time": "2024-06-26T15:45:07.588554Z",
          "start_time": "2024-06-26T15:45:07.571286Z"
        },
        "colab": {
          "base_uri": "https://localhost:8080/",
          "height": 359
        },
        "id": "G5TOjZNYYVqZ",
        "outputId": "5ed86b81-d595-4d72-bda4-ae685003fbab"
      }
    },
    {
      "cell_type": "code",
      "execution_count": 11,
      "outputs": [
        {
          "output_type": "stream",
          "name": "stdout",
          "text": [
            "Classification report for CNN :\n",
            "              precision    recall  f1-score   support\n",
            "\n",
            "           0       0.86      0.83      0.84      1000\n",
            "           1       0.99      0.97      0.98      1000\n",
            "           2       0.83      0.80      0.81      1000\n",
            "           3       0.89      0.89      0.89      1000\n",
            "           4       0.79      0.85      0.82      1000\n",
            "           5       0.98      0.95      0.97      1000\n",
            "           6       0.73      0.73      0.73      1000\n",
            "           7       0.94      0.96      0.95      1000\n",
            "           8       0.98      0.97      0.97      1000\n",
            "           9       0.96      0.96      0.96      1000\n",
            "\n",
            "    accuracy                           0.89     10000\n",
            "   macro avg       0.89      0.89      0.89     10000\n",
            "weighted avg       0.89      0.89      0.89     10000\n",
            "\n",
            "\n"
          ]
        }
      ],
      "source": [
        "print(\"Classification report for CNN :\\n%s\\n\"\n",
        "      % (metrics.classification_report(labels_l, predictions_l)))"
      ],
      "metadata": {
        "ExecuteTime": {
          "end_time": "2024-06-26T15:45:07.604935Z",
          "start_time": "2024-06-26T15:45:07.581981Z"
        },
        "colab": {
          "base_uri": "https://localhost:8080/"
        },
        "id": "ikVie5r6YVqZ",
        "outputId": "df516390-41ec-424d-cfdb-967979e44e9e"
      }
    },
    {
      "cell_type": "markdown",
      "source": [
        "## Gráficos de perda e acurácia para treino e teste utilizando o melhhor modelo encontrado"
      ],
      "metadata": {
        "collapsed": false,
        "id": "reInDgmhYVqZ"
      }
    },
    {
      "cell_type": "code",
      "execution_count": 12,
      "outputs": [],
      "source": [
        "import pandas as pd\n",
        "df_loss = pd.DataFrame(\n",
        "    {\n",
        "        'test_loss': test_losses,\n",
        "        'train_loss': train_losses,\n",
        "    }\n",
        ")\n",
        "df_accuracy = pd.DataFrame(\n",
        "    {\n",
        "        'test_accuracy': test_accuracies,\n",
        "        'train_accuracy': train_accuracies,\n",
        "    }\n",
        ")"
      ],
      "metadata": {
        "ExecuteTime": {
          "end_time": "2024-06-26T15:53:51.309963Z",
          "start_time": "2024-06-26T15:53:51.298804Z"
        },
        "id": "_Ln-upViYVqZ"
      }
    },
    {
      "cell_type": "code",
      "execution_count": 13,
      "outputs": [
        {
          "output_type": "display_data",
          "data": {
            "text/html": [
              "<html>\n",
              "<head><meta charset=\"utf-8\" /></head>\n",
              "<body>\n",
              "    <div>            <script src=\"https://cdnjs.cloudflare.com/ajax/libs/mathjax/2.7.5/MathJax.js?config=TeX-AMS-MML_SVG\"></script><script type=\"text/javascript\">if (window.MathJax && window.MathJax.Hub && window.MathJax.Hub.Config) {window.MathJax.Hub.Config({SVG: {font: \"STIX-Web\"}});}</script>                <script type=\"text/javascript\">window.PlotlyConfig = {MathJaxConfig: 'local'};</script>\n",
              "        <script charset=\"utf-8\" src=\"https://cdn.plot.ly/plotly-2.24.1.min.js\"></script>                <div id=\"5f06f776-3383-4957-a626-2811779550ca\" class=\"plotly-graph-div\" style=\"height:600px; width:800px;\"></div>            <script type=\"text/javascript\">                                    window.PLOTLYENV=window.PLOTLYENV || {};                                    if (document.getElementById(\"5f06f776-3383-4957-a626-2811779550ca\")) {                    Plotly.newPlot(                        \"5f06f776-3383-4957-a626-2811779550ca\",                        [{\"hovertemplate\":\"\\u003cbr\\u003ePerda: %{y} \\u003cbr\\u003e\\u00c9poca: %{x}\",\"legendgroup\":\"test_loss\",\"line\":{\"color\":\"#636efa\",\"dash\":\"solid\"},\"marker\":{\"symbol\":\"circle\"},\"mode\":\"markers+lines\",\"name\":\"test_loss\",\"orientation\":\"v\",\"showlegend\":true,\"x\":[0,1,2,3,4,5,6,7,8,9,10,11,12,13],\"xaxis\":\"x\",\"y\":[0.4109399108886719,0.407750634765625,0.3859677398681641,0.3256185760498047,0.3395037384033203,0.3290865966796875,0.3169653778076172,0.31385442810058595,0.3152994354248047,0.31365084838867185,0.31365675659179687,0.31385910339355466,0.3132079437255859,0.3142250518798828],\"yaxis\":\"y\",\"type\":\"scatter\"},{\"hovertemplate\":\"\\u003cbr\\u003ePerda: %{y} \\u003cbr\\u003e\\u00c9poca: %{x}\",\"legendgroup\":\"train_loss\",\"line\":{\"color\":\"#EF553B\",\"dash\":\"solid\"},\"marker\":{\"symbol\":\"circle\"},\"mode\":\"markers+lines\",\"name\":\"train_loss\",\"orientation\":\"v\",\"showlegend\":true,\"x\":[0,1,2,3,4,5,6,7,8,9,10,11,12,13],\"xaxis\":\"x\",\"y\":[0.24610303342342377,0.2915824055671692,0.18665482103824615,0.22696805000305176,0.159237340092659,0.26942119002342224,0.228662371635437,0.12629783153533936,0.15971331298351288,0.10584964603185654,0.30698713660240173,0.2840273976325989,0.13397496938705444,0.255063533782959],\"yaxis\":\"y\",\"type\":\"scatter\"}],                        {\"template\":{\"data\":{\"histogram2dcontour\":[{\"type\":\"histogram2dcontour\",\"colorbar\":{\"outlinewidth\":0,\"ticks\":\"\"},\"colorscale\":[[0.0,\"#0d0887\"],[0.1111111111111111,\"#46039f\"],[0.2222222222222222,\"#7201a8\"],[0.3333333333333333,\"#9c179e\"],[0.4444444444444444,\"#bd3786\"],[0.5555555555555556,\"#d8576b\"],[0.6666666666666666,\"#ed7953\"],[0.7777777777777778,\"#fb9f3a\"],[0.8888888888888888,\"#fdca26\"],[1.0,\"#f0f921\"]]}],\"choropleth\":[{\"type\":\"choropleth\",\"colorbar\":{\"outlinewidth\":0,\"ticks\":\"\"}}],\"histogram2d\":[{\"type\":\"histogram2d\",\"colorbar\":{\"outlinewidth\":0,\"ticks\":\"\"},\"colorscale\":[[0.0,\"#0d0887\"],[0.1111111111111111,\"#46039f\"],[0.2222222222222222,\"#7201a8\"],[0.3333333333333333,\"#9c179e\"],[0.4444444444444444,\"#bd3786\"],[0.5555555555555556,\"#d8576b\"],[0.6666666666666666,\"#ed7953\"],[0.7777777777777778,\"#fb9f3a\"],[0.8888888888888888,\"#fdca26\"],[1.0,\"#f0f921\"]]}],\"heatmap\":[{\"type\":\"heatmap\",\"colorbar\":{\"outlinewidth\":0,\"ticks\":\"\"},\"colorscale\":[[0.0,\"#0d0887\"],[0.1111111111111111,\"#46039f\"],[0.2222222222222222,\"#7201a8\"],[0.3333333333333333,\"#9c179e\"],[0.4444444444444444,\"#bd3786\"],[0.5555555555555556,\"#d8576b\"],[0.6666666666666666,\"#ed7953\"],[0.7777777777777778,\"#fb9f3a\"],[0.8888888888888888,\"#fdca26\"],[1.0,\"#f0f921\"]]}],\"heatmapgl\":[{\"type\":\"heatmapgl\",\"colorbar\":{\"outlinewidth\":0,\"ticks\":\"\"},\"colorscale\":[[0.0,\"#0d0887\"],[0.1111111111111111,\"#46039f\"],[0.2222222222222222,\"#7201a8\"],[0.3333333333333333,\"#9c179e\"],[0.4444444444444444,\"#bd3786\"],[0.5555555555555556,\"#d8576b\"],[0.6666666666666666,\"#ed7953\"],[0.7777777777777778,\"#fb9f3a\"],[0.8888888888888888,\"#fdca26\"],[1.0,\"#f0f921\"]]}],\"contourcarpet\":[{\"type\":\"contourcarpet\",\"colorbar\":{\"outlinewidth\":0,\"ticks\":\"\"}}],\"contour\":[{\"type\":\"contour\",\"colorbar\":{\"outlinewidth\":0,\"ticks\":\"\"},\"colorscale\":[[0.0,\"#0d0887\"],[0.1111111111111111,\"#46039f\"],[0.2222222222222222,\"#7201a8\"],[0.3333333333333333,\"#9c179e\"],[0.4444444444444444,\"#bd3786\"],[0.5555555555555556,\"#d8576b\"],[0.6666666666666666,\"#ed7953\"],[0.7777777777777778,\"#fb9f3a\"],[0.8888888888888888,\"#fdca26\"],[1.0,\"#f0f921\"]]}],\"surface\":[{\"type\":\"surface\",\"colorbar\":{\"outlinewidth\":0,\"ticks\":\"\"},\"colorscale\":[[0.0,\"#0d0887\"],[0.1111111111111111,\"#46039f\"],[0.2222222222222222,\"#7201a8\"],[0.3333333333333333,\"#9c179e\"],[0.4444444444444444,\"#bd3786\"],[0.5555555555555556,\"#d8576b\"],[0.6666666666666666,\"#ed7953\"],[0.7777777777777778,\"#fb9f3a\"],[0.8888888888888888,\"#fdca26\"],[1.0,\"#f0f921\"]]}],\"mesh3d\":[{\"type\":\"mesh3d\",\"colorbar\":{\"outlinewidth\":0,\"ticks\":\"\"}}],\"scatter\":[{\"fillpattern\":{\"fillmode\":\"overlay\",\"size\":10,\"solidity\":0.2},\"type\":\"scatter\"}],\"parcoords\":[{\"type\":\"parcoords\",\"line\":{\"colorbar\":{\"outlinewidth\":0,\"ticks\":\"\"}}}],\"scatterpolargl\":[{\"type\":\"scatterpolargl\",\"marker\":{\"colorbar\":{\"outlinewidth\":0,\"ticks\":\"\"}}}],\"bar\":[{\"error_x\":{\"color\":\"#2a3f5f\"},\"error_y\":{\"color\":\"#2a3f5f\"},\"marker\":{\"line\":{\"color\":\"#E5ECF6\",\"width\":0.5},\"pattern\":{\"fillmode\":\"overlay\",\"size\":10,\"solidity\":0.2}},\"type\":\"bar\"}],\"scattergeo\":[{\"type\":\"scattergeo\",\"marker\":{\"colorbar\":{\"outlinewidth\":0,\"ticks\":\"\"}}}],\"scatterpolar\":[{\"type\":\"scatterpolar\",\"marker\":{\"colorbar\":{\"outlinewidth\":0,\"ticks\":\"\"}}}],\"histogram\":[{\"marker\":{\"pattern\":{\"fillmode\":\"overlay\",\"size\":10,\"solidity\":0.2}},\"type\":\"histogram\"}],\"scattergl\":[{\"type\":\"scattergl\",\"marker\":{\"colorbar\":{\"outlinewidth\":0,\"ticks\":\"\"}}}],\"scatter3d\":[{\"type\":\"scatter3d\",\"line\":{\"colorbar\":{\"outlinewidth\":0,\"ticks\":\"\"}},\"marker\":{\"colorbar\":{\"outlinewidth\":0,\"ticks\":\"\"}}}],\"scattermapbox\":[{\"type\":\"scattermapbox\",\"marker\":{\"colorbar\":{\"outlinewidth\":0,\"ticks\":\"\"}}}],\"scatterternary\":[{\"type\":\"scatterternary\",\"marker\":{\"colorbar\":{\"outlinewidth\":0,\"ticks\":\"\"}}}],\"scattercarpet\":[{\"type\":\"scattercarpet\",\"marker\":{\"colorbar\":{\"outlinewidth\":0,\"ticks\":\"\"}}}],\"carpet\":[{\"aaxis\":{\"endlinecolor\":\"#2a3f5f\",\"gridcolor\":\"white\",\"linecolor\":\"white\",\"minorgridcolor\":\"white\",\"startlinecolor\":\"#2a3f5f\"},\"baxis\":{\"endlinecolor\":\"#2a3f5f\",\"gridcolor\":\"white\",\"linecolor\":\"white\",\"minorgridcolor\":\"white\",\"startlinecolor\":\"#2a3f5f\"},\"type\":\"carpet\"}],\"table\":[{\"cells\":{\"fill\":{\"color\":\"#EBF0F8\"},\"line\":{\"color\":\"white\"}},\"header\":{\"fill\":{\"color\":\"#C8D4E3\"},\"line\":{\"color\":\"white\"}},\"type\":\"table\"}],\"barpolar\":[{\"marker\":{\"line\":{\"color\":\"#E5ECF6\",\"width\":0.5},\"pattern\":{\"fillmode\":\"overlay\",\"size\":10,\"solidity\":0.2}},\"type\":\"barpolar\"}],\"pie\":[{\"automargin\":true,\"type\":\"pie\"}]},\"layout\":{\"autotypenumbers\":\"strict\",\"colorway\":[\"#636efa\",\"#EF553B\",\"#00cc96\",\"#ab63fa\",\"#FFA15A\",\"#19d3f3\",\"#FF6692\",\"#B6E880\",\"#FF97FF\",\"#FECB52\"],\"font\":{\"color\":\"#2a3f5f\"},\"hovermode\":\"closest\",\"hoverlabel\":{\"align\":\"left\"},\"paper_bgcolor\":\"white\",\"plot_bgcolor\":\"#E5ECF6\",\"polar\":{\"bgcolor\":\"#E5ECF6\",\"angularaxis\":{\"gridcolor\":\"white\",\"linecolor\":\"white\",\"ticks\":\"\"},\"radialaxis\":{\"gridcolor\":\"white\",\"linecolor\":\"white\",\"ticks\":\"\"}},\"ternary\":{\"bgcolor\":\"#E5ECF6\",\"aaxis\":{\"gridcolor\":\"white\",\"linecolor\":\"white\",\"ticks\":\"\"},\"baxis\":{\"gridcolor\":\"white\",\"linecolor\":\"white\",\"ticks\":\"\"},\"caxis\":{\"gridcolor\":\"white\",\"linecolor\":\"white\",\"ticks\":\"\"}},\"coloraxis\":{\"colorbar\":{\"outlinewidth\":0,\"ticks\":\"\"}},\"colorscale\":{\"sequential\":[[0.0,\"#0d0887\"],[0.1111111111111111,\"#46039f\"],[0.2222222222222222,\"#7201a8\"],[0.3333333333333333,\"#9c179e\"],[0.4444444444444444,\"#bd3786\"],[0.5555555555555556,\"#d8576b\"],[0.6666666666666666,\"#ed7953\"],[0.7777777777777778,\"#fb9f3a\"],[0.8888888888888888,\"#fdca26\"],[1.0,\"#f0f921\"]],\"sequentialminus\":[[0.0,\"#0d0887\"],[0.1111111111111111,\"#46039f\"],[0.2222222222222222,\"#7201a8\"],[0.3333333333333333,\"#9c179e\"],[0.4444444444444444,\"#bd3786\"],[0.5555555555555556,\"#d8576b\"],[0.6666666666666666,\"#ed7953\"],[0.7777777777777778,\"#fb9f3a\"],[0.8888888888888888,\"#fdca26\"],[1.0,\"#f0f921\"]],\"diverging\":[[0,\"#8e0152\"],[0.1,\"#c51b7d\"],[0.2,\"#de77ae\"],[0.3,\"#f1b6da\"],[0.4,\"#fde0ef\"],[0.5,\"#f7f7f7\"],[0.6,\"#e6f5d0\"],[0.7,\"#b8e186\"],[0.8,\"#7fbc41\"],[0.9,\"#4d9221\"],[1,\"#276419\"]]},\"xaxis\":{\"gridcolor\":\"white\",\"linecolor\":\"white\",\"ticks\":\"\",\"title\":{\"standoff\":15},\"zerolinecolor\":\"white\",\"automargin\":true,\"zerolinewidth\":2},\"yaxis\":{\"gridcolor\":\"white\",\"linecolor\":\"white\",\"ticks\":\"\",\"title\":{\"standoff\":15},\"zerolinecolor\":\"white\",\"automargin\":true,\"zerolinewidth\":2},\"scene\":{\"xaxis\":{\"backgroundcolor\":\"#E5ECF6\",\"gridcolor\":\"white\",\"linecolor\":\"white\",\"showbackground\":true,\"ticks\":\"\",\"zerolinecolor\":\"white\",\"gridwidth\":2},\"yaxis\":{\"backgroundcolor\":\"#E5ECF6\",\"gridcolor\":\"white\",\"linecolor\":\"white\",\"showbackground\":true,\"ticks\":\"\",\"zerolinecolor\":\"white\",\"gridwidth\":2},\"zaxis\":{\"backgroundcolor\":\"#E5ECF6\",\"gridcolor\":\"white\",\"linecolor\":\"white\",\"showbackground\":true,\"ticks\":\"\",\"zerolinecolor\":\"white\",\"gridwidth\":2}},\"shapedefaults\":{\"line\":{\"color\":\"#2a3f5f\"}},\"annotationdefaults\":{\"arrowcolor\":\"#2a3f5f\",\"arrowhead\":0,\"arrowwidth\":1},\"geo\":{\"bgcolor\":\"white\",\"landcolor\":\"#E5ECF6\",\"subunitcolor\":\"white\",\"showland\":true,\"showlakes\":true,\"lakecolor\":\"white\"},\"title\":{\"x\":0.05},\"mapbox\":{\"style\":\"light\"}}},\"xaxis\":{\"anchor\":\"y\",\"domain\":[0.0,1.0],\"title\":{\"text\":\"\\u00c9poca\"}},\"yaxis\":{\"anchor\":\"x\",\"domain\":[0.0,1.0],\"title\":{\"text\":\"Perda\"}},\"legend\":{\"title\":{\"text\":\"Dados\"},\"tracegroupgap\":0},\"margin\":{\"t\":60},\"height\":600,\"width\":800,\"title\":{\"text\":\"Perda de treino e teste atrav\\u00e9s das \\u00e9pocas\"},\"showlegend\":true},                        {\"responsive\": true}                    ).then(function(){\n",
              "                            \n",
              "var gd = document.getElementById('5f06f776-3383-4957-a626-2811779550ca');\n",
              "var x = new MutationObserver(function (mutations, observer) {{\n",
              "        var display = window.getComputedStyle(gd).display;\n",
              "        if (!display || display === 'none') {{\n",
              "            console.log([gd, 'removed!']);\n",
              "            Plotly.purge(gd);\n",
              "            observer.disconnect();\n",
              "        }}\n",
              "}});\n",
              "\n",
              "// Listen for the removal of the full notebook cells\n",
              "var notebookContainer = gd.closest('#notebook-container');\n",
              "if (notebookContainer) {{\n",
              "    x.observe(notebookContainer, {childList: true});\n",
              "}}\n",
              "\n",
              "// Listen for the clearing of the current output cell\n",
              "var outputEl = gd.closest('.output');\n",
              "if (outputEl) {{\n",
              "    x.observe(outputEl, {childList: true});\n",
              "}}\n",
              "\n",
              "                        })                };                            </script>        </div>\n",
              "</body>\n",
              "</html>"
            ]
          },
          "metadata": {}
        }
      ],
      "source": [
        "fig = px.line(df_loss,\n",
        "              width=800, height=600)\n",
        "\n",
        "fig.update_layout(\n",
        "    title='Perda de treino e teste através das épocas',\n",
        "    xaxis_title=\"Época\",\n",
        "    yaxis_title=\"Perda\")\n",
        "\n",
        "fig.update_traces(mode=\"markers+lines\")\n",
        "fig.update_layout(showlegend=True)\n",
        "fig.update_layout(legend_title_text='Dados')\n",
        "fig.update_traces(hovertemplate='<br>Perda: %{y} <br>Época: %{x}')\n",
        "\n",
        "fig.show()"
      ],
      "metadata": {
        "ExecuteTime": {
          "end_time": "2024-06-26T16:10:53.772910Z",
          "start_time": "2024-06-26T16:10:53.756604Z"
        },
        "colab": {
          "base_uri": "https://localhost:8080/",
          "height": 617
        },
        "id": "sJBMiKZbYVqZ",
        "outputId": "55966840-c311-4683-8898-eaeaf2bccdee"
      }
    },
    {
      "cell_type": "code",
      "execution_count": 14,
      "outputs": [
        {
          "output_type": "display_data",
          "data": {
            "text/html": [
              "<html>\n",
              "<head><meta charset=\"utf-8\" /></head>\n",
              "<body>\n",
              "    <div>            <script src=\"https://cdnjs.cloudflare.com/ajax/libs/mathjax/2.7.5/MathJax.js?config=TeX-AMS-MML_SVG\"></script><script type=\"text/javascript\">if (window.MathJax && window.MathJax.Hub && window.MathJax.Hub.Config) {window.MathJax.Hub.Config({SVG: {font: \"STIX-Web\"}});}</script>                <script type=\"text/javascript\">window.PlotlyConfig = {MathJaxConfig: 'local'};</script>\n",
              "        <script charset=\"utf-8\" src=\"https://cdn.plot.ly/plotly-2.24.1.min.js\"></script>                <div id=\"70e3ead3-cbac-4333-a20c-2f8acc450ea8\" class=\"plotly-graph-div\" style=\"height:600px; width:800px;\"></div>            <script type=\"text/javascript\">                                    window.PLOTLYENV=window.PLOTLYENV || {};                                    if (document.getElementById(\"70e3ead3-cbac-4333-a20c-2f8acc450ea8\")) {                    Plotly.newPlot(                        \"70e3ead3-cbac-4333-a20c-2f8acc450ea8\",                        [{\"hovertemplate\":\"\\u003cbr\\u003eAcur\\u00e1cia: %{y} \\u003cbr\\u003e\\u00c9poca: %{x}\",\"legendgroup\":\"test_accuracy\",\"line\":{\"color\":\"#636efa\",\"dash\":\"solid\"},\"marker\":{\"symbol\":\"circle\"},\"mode\":\"markers+lines\",\"name\":\"test_accuracy\",\"orientation\":\"v\",\"showlegend\":true,\"x\":[0,1,2,3,4,5,6,7,8,9,10,11,12,13],\"xaxis\":\"x\",\"y\":[84.66,85.51,86.81,88.14,87.95,88.93,88.6,89.22,89.15,89.06,89.21,89.24,89.23,89.21],\"yaxis\":\"y\",\"type\":\"scatter\"},{\"hovertemplate\":\"\\u003cbr\\u003eAcur\\u00e1cia: %{y} \\u003cbr\\u003e\\u00c9poca: %{x}\",\"legendgroup\":\"train_accuracy\",\"line\":{\"color\":\"#EF553B\",\"dash\":\"solid\"},\"marker\":{\"symbol\":\"circle\"},\"mode\":\"markers+lines\",\"name\":\"train_accuracy\",\"orientation\":\"v\",\"showlegend\":true,\"x\":[0,1,2,3,4,5,6,7,8,9,10,11,12,13],\"xaxis\":\"x\",\"y\":[99.89339019189765,99.89339019189765,99.89339019189765,99.89339019189765,99.89339019189765,99.89339019189765,99.89339019189765,99.89339019189765,99.89339019189765,99.89339019189765,99.89339019189765,99.89339019189765,99.89339019189765,99.89339019189765],\"yaxis\":\"y\",\"type\":\"scatter\"}],                        {\"template\":{\"data\":{\"histogram2dcontour\":[{\"type\":\"histogram2dcontour\",\"colorbar\":{\"outlinewidth\":0,\"ticks\":\"\"},\"colorscale\":[[0.0,\"#0d0887\"],[0.1111111111111111,\"#46039f\"],[0.2222222222222222,\"#7201a8\"],[0.3333333333333333,\"#9c179e\"],[0.4444444444444444,\"#bd3786\"],[0.5555555555555556,\"#d8576b\"],[0.6666666666666666,\"#ed7953\"],[0.7777777777777778,\"#fb9f3a\"],[0.8888888888888888,\"#fdca26\"],[1.0,\"#f0f921\"]]}],\"choropleth\":[{\"type\":\"choropleth\",\"colorbar\":{\"outlinewidth\":0,\"ticks\":\"\"}}],\"histogram2d\":[{\"type\":\"histogram2d\",\"colorbar\":{\"outlinewidth\":0,\"ticks\":\"\"},\"colorscale\":[[0.0,\"#0d0887\"],[0.1111111111111111,\"#46039f\"],[0.2222222222222222,\"#7201a8\"],[0.3333333333333333,\"#9c179e\"],[0.4444444444444444,\"#bd3786\"],[0.5555555555555556,\"#d8576b\"],[0.6666666666666666,\"#ed7953\"],[0.7777777777777778,\"#fb9f3a\"],[0.8888888888888888,\"#fdca26\"],[1.0,\"#f0f921\"]]}],\"heatmap\":[{\"type\":\"heatmap\",\"colorbar\":{\"outlinewidth\":0,\"ticks\":\"\"},\"colorscale\":[[0.0,\"#0d0887\"],[0.1111111111111111,\"#46039f\"],[0.2222222222222222,\"#7201a8\"],[0.3333333333333333,\"#9c179e\"],[0.4444444444444444,\"#bd3786\"],[0.5555555555555556,\"#d8576b\"],[0.6666666666666666,\"#ed7953\"],[0.7777777777777778,\"#fb9f3a\"],[0.8888888888888888,\"#fdca26\"],[1.0,\"#f0f921\"]]}],\"heatmapgl\":[{\"type\":\"heatmapgl\",\"colorbar\":{\"outlinewidth\":0,\"ticks\":\"\"},\"colorscale\":[[0.0,\"#0d0887\"],[0.1111111111111111,\"#46039f\"],[0.2222222222222222,\"#7201a8\"],[0.3333333333333333,\"#9c179e\"],[0.4444444444444444,\"#bd3786\"],[0.5555555555555556,\"#d8576b\"],[0.6666666666666666,\"#ed7953\"],[0.7777777777777778,\"#fb9f3a\"],[0.8888888888888888,\"#fdca26\"],[1.0,\"#f0f921\"]]}],\"contourcarpet\":[{\"type\":\"contourcarpet\",\"colorbar\":{\"outlinewidth\":0,\"ticks\":\"\"}}],\"contour\":[{\"type\":\"contour\",\"colorbar\":{\"outlinewidth\":0,\"ticks\":\"\"},\"colorscale\":[[0.0,\"#0d0887\"],[0.1111111111111111,\"#46039f\"],[0.2222222222222222,\"#7201a8\"],[0.3333333333333333,\"#9c179e\"],[0.4444444444444444,\"#bd3786\"],[0.5555555555555556,\"#d8576b\"],[0.6666666666666666,\"#ed7953\"],[0.7777777777777778,\"#fb9f3a\"],[0.8888888888888888,\"#fdca26\"],[1.0,\"#f0f921\"]]}],\"surface\":[{\"type\":\"surface\",\"colorbar\":{\"outlinewidth\":0,\"ticks\":\"\"},\"colorscale\":[[0.0,\"#0d0887\"],[0.1111111111111111,\"#46039f\"],[0.2222222222222222,\"#7201a8\"],[0.3333333333333333,\"#9c179e\"],[0.4444444444444444,\"#bd3786\"],[0.5555555555555556,\"#d8576b\"],[0.6666666666666666,\"#ed7953\"],[0.7777777777777778,\"#fb9f3a\"],[0.8888888888888888,\"#fdca26\"],[1.0,\"#f0f921\"]]}],\"mesh3d\":[{\"type\":\"mesh3d\",\"colorbar\":{\"outlinewidth\":0,\"ticks\":\"\"}}],\"scatter\":[{\"fillpattern\":{\"fillmode\":\"overlay\",\"size\":10,\"solidity\":0.2},\"type\":\"scatter\"}],\"parcoords\":[{\"type\":\"parcoords\",\"line\":{\"colorbar\":{\"outlinewidth\":0,\"ticks\":\"\"}}}],\"scatterpolargl\":[{\"type\":\"scatterpolargl\",\"marker\":{\"colorbar\":{\"outlinewidth\":0,\"ticks\":\"\"}}}],\"bar\":[{\"error_x\":{\"color\":\"#2a3f5f\"},\"error_y\":{\"color\":\"#2a3f5f\"},\"marker\":{\"line\":{\"color\":\"#E5ECF6\",\"width\":0.5},\"pattern\":{\"fillmode\":\"overlay\",\"size\":10,\"solidity\":0.2}},\"type\":\"bar\"}],\"scattergeo\":[{\"type\":\"scattergeo\",\"marker\":{\"colorbar\":{\"outlinewidth\":0,\"ticks\":\"\"}}}],\"scatterpolar\":[{\"type\":\"scatterpolar\",\"marker\":{\"colorbar\":{\"outlinewidth\":0,\"ticks\":\"\"}}}],\"histogram\":[{\"marker\":{\"pattern\":{\"fillmode\":\"overlay\",\"size\":10,\"solidity\":0.2}},\"type\":\"histogram\"}],\"scattergl\":[{\"type\":\"scattergl\",\"marker\":{\"colorbar\":{\"outlinewidth\":0,\"ticks\":\"\"}}}],\"scatter3d\":[{\"type\":\"scatter3d\",\"line\":{\"colorbar\":{\"outlinewidth\":0,\"ticks\":\"\"}},\"marker\":{\"colorbar\":{\"outlinewidth\":0,\"ticks\":\"\"}}}],\"scattermapbox\":[{\"type\":\"scattermapbox\",\"marker\":{\"colorbar\":{\"outlinewidth\":0,\"ticks\":\"\"}}}],\"scatterternary\":[{\"type\":\"scatterternary\",\"marker\":{\"colorbar\":{\"outlinewidth\":0,\"ticks\":\"\"}}}],\"scattercarpet\":[{\"type\":\"scattercarpet\",\"marker\":{\"colorbar\":{\"outlinewidth\":0,\"ticks\":\"\"}}}],\"carpet\":[{\"aaxis\":{\"endlinecolor\":\"#2a3f5f\",\"gridcolor\":\"white\",\"linecolor\":\"white\",\"minorgridcolor\":\"white\",\"startlinecolor\":\"#2a3f5f\"},\"baxis\":{\"endlinecolor\":\"#2a3f5f\",\"gridcolor\":\"white\",\"linecolor\":\"white\",\"minorgridcolor\":\"white\",\"startlinecolor\":\"#2a3f5f\"},\"type\":\"carpet\"}],\"table\":[{\"cells\":{\"fill\":{\"color\":\"#EBF0F8\"},\"line\":{\"color\":\"white\"}},\"header\":{\"fill\":{\"color\":\"#C8D4E3\"},\"line\":{\"color\":\"white\"}},\"type\":\"table\"}],\"barpolar\":[{\"marker\":{\"line\":{\"color\":\"#E5ECF6\",\"width\":0.5},\"pattern\":{\"fillmode\":\"overlay\",\"size\":10,\"solidity\":0.2}},\"type\":\"barpolar\"}],\"pie\":[{\"automargin\":true,\"type\":\"pie\"}]},\"layout\":{\"autotypenumbers\":\"strict\",\"colorway\":[\"#636efa\",\"#EF553B\",\"#00cc96\",\"#ab63fa\",\"#FFA15A\",\"#19d3f3\",\"#FF6692\",\"#B6E880\",\"#FF97FF\",\"#FECB52\"],\"font\":{\"color\":\"#2a3f5f\"},\"hovermode\":\"closest\",\"hoverlabel\":{\"align\":\"left\"},\"paper_bgcolor\":\"white\",\"plot_bgcolor\":\"#E5ECF6\",\"polar\":{\"bgcolor\":\"#E5ECF6\",\"angularaxis\":{\"gridcolor\":\"white\",\"linecolor\":\"white\",\"ticks\":\"\"},\"radialaxis\":{\"gridcolor\":\"white\",\"linecolor\":\"white\",\"ticks\":\"\"}},\"ternary\":{\"bgcolor\":\"#E5ECF6\",\"aaxis\":{\"gridcolor\":\"white\",\"linecolor\":\"white\",\"ticks\":\"\"},\"baxis\":{\"gridcolor\":\"white\",\"linecolor\":\"white\",\"ticks\":\"\"},\"caxis\":{\"gridcolor\":\"white\",\"linecolor\":\"white\",\"ticks\":\"\"}},\"coloraxis\":{\"colorbar\":{\"outlinewidth\":0,\"ticks\":\"\"}},\"colorscale\":{\"sequential\":[[0.0,\"#0d0887\"],[0.1111111111111111,\"#46039f\"],[0.2222222222222222,\"#7201a8\"],[0.3333333333333333,\"#9c179e\"],[0.4444444444444444,\"#bd3786\"],[0.5555555555555556,\"#d8576b\"],[0.6666666666666666,\"#ed7953\"],[0.7777777777777778,\"#fb9f3a\"],[0.8888888888888888,\"#fdca26\"],[1.0,\"#f0f921\"]],\"sequentialminus\":[[0.0,\"#0d0887\"],[0.1111111111111111,\"#46039f\"],[0.2222222222222222,\"#7201a8\"],[0.3333333333333333,\"#9c179e\"],[0.4444444444444444,\"#bd3786\"],[0.5555555555555556,\"#d8576b\"],[0.6666666666666666,\"#ed7953\"],[0.7777777777777778,\"#fb9f3a\"],[0.8888888888888888,\"#fdca26\"],[1.0,\"#f0f921\"]],\"diverging\":[[0,\"#8e0152\"],[0.1,\"#c51b7d\"],[0.2,\"#de77ae\"],[0.3,\"#f1b6da\"],[0.4,\"#fde0ef\"],[0.5,\"#f7f7f7\"],[0.6,\"#e6f5d0\"],[0.7,\"#b8e186\"],[0.8,\"#7fbc41\"],[0.9,\"#4d9221\"],[1,\"#276419\"]]},\"xaxis\":{\"gridcolor\":\"white\",\"linecolor\":\"white\",\"ticks\":\"\",\"title\":{\"standoff\":15},\"zerolinecolor\":\"white\",\"automargin\":true,\"zerolinewidth\":2},\"yaxis\":{\"gridcolor\":\"white\",\"linecolor\":\"white\",\"ticks\":\"\",\"title\":{\"standoff\":15},\"zerolinecolor\":\"white\",\"automargin\":true,\"zerolinewidth\":2},\"scene\":{\"xaxis\":{\"backgroundcolor\":\"#E5ECF6\",\"gridcolor\":\"white\",\"linecolor\":\"white\",\"showbackground\":true,\"ticks\":\"\",\"zerolinecolor\":\"white\",\"gridwidth\":2},\"yaxis\":{\"backgroundcolor\":\"#E5ECF6\",\"gridcolor\":\"white\",\"linecolor\":\"white\",\"showbackground\":true,\"ticks\":\"\",\"zerolinecolor\":\"white\",\"gridwidth\":2},\"zaxis\":{\"backgroundcolor\":\"#E5ECF6\",\"gridcolor\":\"white\",\"linecolor\":\"white\",\"showbackground\":true,\"ticks\":\"\",\"zerolinecolor\":\"white\",\"gridwidth\":2}},\"shapedefaults\":{\"line\":{\"color\":\"#2a3f5f\"}},\"annotationdefaults\":{\"arrowcolor\":\"#2a3f5f\",\"arrowhead\":0,\"arrowwidth\":1},\"geo\":{\"bgcolor\":\"white\",\"landcolor\":\"#E5ECF6\",\"subunitcolor\":\"white\",\"showland\":true,\"showlakes\":true,\"lakecolor\":\"white\"},\"title\":{\"x\":0.05},\"mapbox\":{\"style\":\"light\"}}},\"xaxis\":{\"anchor\":\"y\",\"domain\":[0.0,1.0],\"title\":{\"text\":\"\\u00c9poca\"}},\"yaxis\":{\"anchor\":\"x\",\"domain\":[0.0,1.0],\"title\":{\"text\":\"Acur\\u00e1cia\"}},\"legend\":{\"title\":{\"text\":\"Dados\"},\"tracegroupgap\":0},\"margin\":{\"t\":60},\"height\":600,\"width\":800,\"title\":{\"text\":\"Acur\\u00e1cia de treino e teste atrav\\u00e9s das \\u00e9pocas\"},\"showlegend\":true},                        {\"responsive\": true}                    ).then(function(){\n",
              "                            \n",
              "var gd = document.getElementById('70e3ead3-cbac-4333-a20c-2f8acc450ea8');\n",
              "var x = new MutationObserver(function (mutations, observer) {{\n",
              "        var display = window.getComputedStyle(gd).display;\n",
              "        if (!display || display === 'none') {{\n",
              "            console.log([gd, 'removed!']);\n",
              "            Plotly.purge(gd);\n",
              "            observer.disconnect();\n",
              "        }}\n",
              "}});\n",
              "\n",
              "// Listen for the removal of the full notebook cells\n",
              "var notebookContainer = gd.closest('#notebook-container');\n",
              "if (notebookContainer) {{\n",
              "    x.observe(notebookContainer, {childList: true});\n",
              "}}\n",
              "\n",
              "// Listen for the clearing of the current output cell\n",
              "var outputEl = gd.closest('.output');\n",
              "if (outputEl) {{\n",
              "    x.observe(outputEl, {childList: true});\n",
              "}}\n",
              "\n",
              "                        })                };                            </script>        </div>\n",
              "</body>\n",
              "</html>"
            ]
          },
          "metadata": {}
        }
      ],
      "source": [
        "fig = px.line(df_accuracy,\n",
        "              width=800, height=600)\n",
        "\n",
        "fig.update_layout(\n",
        "    title='Acurácia de treino e teste através das épocas',\n",
        "    xaxis_title=\"Época\",\n",
        "    yaxis_title=\"Acurácia\")\n",
        "\n",
        "fig.update_traces(mode=\"markers+lines\")\n",
        "fig.update_layout(showlegend=True)\n",
        "fig.update_layout(legend_title_text='Dados')\n",
        "fig.update_traces(hovertemplate='<br>Acurácia: %{y} <br>Época: %{x}')\n",
        "\n",
        "fig.show()"
      ],
      "metadata": {
        "ExecuteTime": {
          "end_time": "2024-06-26T16:11:43.684320Z",
          "start_time": "2024-06-26T16:11:43.681145Z"
        },
        "colab": {
          "base_uri": "https://localhost:8080/",
          "height": 617
        },
        "id": "OCFWnKf6YVqZ",
        "outputId": "836dffbd-83e8-4bd5-ba6f-fc93c6f1349d"
      }
    },
    {
      "cell_type": "markdown",
      "source": [
        "## Conclusão:\n",
        "- Com a rede utilizada, pode-se perceber pelos gráficos de perda e acurácia, que o modelo encontrado na época 10 serial o ideal, pois as perdas de treino e teste estão muito próximas, com uma acurácia próxima da máxima encontrada.\n",
        "- Com a rede utilizada, após a época 10, pode-se perceber pelo gráfico de perda entre teste e treinamento que houve underfitting, possivelmente por não utilizar uma rede mais complexa e sem convolução, visto que a acurácia ficou próxima de 90%. Foi difícil fazer ajustes no modelo da rede, learning rate e cálculo da perda para melhorar a acurácia com a rede utilizada."
      ],
      "metadata": {
        "collapsed": false,
        "id": "EI7IPk8aYVqa"
      }
    }
  ],
  "metadata": {
    "accelerator": "GPU",
    "colab": {
      "machine_shape": "hm",
      "provenance": []
    },
    "kernelspec": {
      "display_name": "Python 3.10.2 64-bit",
      "language": "python",
      "name": "python3"
    },
    "language_info": {
      "name": "python",
      "version": "3.10.2"
    },
    "vscode": {
      "interpreter": {
        "hash": "5fe3e6f0cdaab8afdc61c52912fda83f7c0a71baaea1897dd7498e2df01e69ec"
      }
    }
  },
  "nbformat": 4,
  "nbformat_minor": 0
}